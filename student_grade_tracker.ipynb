{
  "nbformat": 4,
  "nbformat_minor": 0,
  "metadata": {
    "colab": {
      "provenance": []
    },
    "kernelspec": {
      "name": "python3",
      "display_name": "Python 3"
    },
    "language_info": {
      "name": "python"
    }
  },
  "cells": [
    {
      "cell_type": "code",
      "execution_count": 2,
      "metadata": {
        "colab": {
          "base_uri": "https://localhost:8080/"
        },
        "id": "hEgYKzHMxfs6",
        "outputId": "ba8bb009-abec-4541-a74d-a5218a85c5b6"
      },
      "outputs": [
        {
          "output_type": "stream",
          "name": "stdout",
          "text": [
            "Enter the subject name (or 'done' to finish): telugu\n",
            "Enter the grade for telugu: 60\n",
            "Enter the subject name (or 'done' to finish): hindi\n",
            "Enter the grade for hindi: 90\n",
            "Enter the subject name (or 'done' to finish): english\n",
            "Enter the grade for english: 100\n",
            "Enter the subject name (or 'done' to finish): maths\n",
            "Enter the grade for maths: 85\n",
            "Enter the subject name (or 'done' to finish): science\n",
            "Enter the grade for science: 95\n",
            "Enter the subject name (or 'done' to finish): social\n",
            "Enter the grade for social: 90\n",
            "Enter the subject name (or 'done' to finish): done\n",
            "\n",
            "Subject Grades:\n",
            "telugu: 60.0\n",
            "hindi: 90.0\n",
            "english: 100.0\n",
            "maths: 85.0\n",
            "science: 95.0\n",
            "social: 90.0\n",
            "\n",
            "Average Grade: 86.67\n",
            "Letter Grade: B\n",
            "GPA: 9.00\n"
          ]
        }
      ],
      "source": [
        "# Student Grades Management Program\n",
        "\n",
        "def calculate_average(grades):\n",
        "    return sum(grades) / len(grades) if grades else 0\n",
        "\n",
        "def get_letter_grade(average):\n",
        "    if average >= 90:\n",
        "        return 'A'\n",
        "    elif average >= 80:\n",
        "        return 'B'\n",
        "    elif average >= 70:\n",
        "        return 'C'\n",
        "    elif average >= 60:\n",
        "        return 'D'\n",
        "    else:\n",
        "        return 'F'\n",
        "\n",
        "def get_gpa(letter_grade):\n",
        "    gpa_scale = {\n",
        "        'A': 10.0,\n",
        "        'B': 9.0,\n",
        "        'C': 7.0,\n",
        "        'D': 4.0,\n",
        "        'F': 0.0\n",
        "    }\n",
        "    return gpa_scale.get(letter_grade, 0.0)\n",
        "\n",
        "def display_grades(subject_grades):\n",
        "    print(\"\\nSubject Grades:\")\n",
        "    for subject, grade in subject_grades.items():\n",
        "        print(f\"{subject}: {grade}\")\n",
        "\n",
        "    average = calculate_average(list(subject_grades.values()))\n",
        "    letter_grade = get_letter_grade(average)\n",
        "    gpa = get_gpa(letter_grade)\n",
        "\n",
        "    print(f\"\\nAverage Grade: {average:.2f}\")\n",
        "    print(f\"Letter Grade: {letter_grade}\")\n",
        "    print(f\"GPA: {gpa:.2f}\")\n",
        "\n",
        "def main():\n",
        "    subject_grades = {}\n",
        "\n",
        "    while True:\n",
        "        subject = input(\"Enter the subject name (or 'done' to finish): \").strip()\n",
        "        if subject.lower() == 'done':\n",
        "            break\n",
        "        try:\n",
        "            grade = float(input(f\"Enter the grade for {subject}: \"))\n",
        "            subject_grades[subject] = grade\n",
        "        except ValueError:\n",
        "            print(\"Invalid input. Please enter a numerical grade.\")\n",
        "\n",
        "    if subject_grades:\n",
        "        display_grades(subject_grades)\n",
        "    else:\n",
        "        print(\"No grades entered.\")\n",
        "\n",
        "if __name__ == \"__main__\":\n",
        "    main()\n"
      ]
    }
  ]
}